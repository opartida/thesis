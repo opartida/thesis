{
 "cells": [
  {
   "cell_type": "code",
   "execution_count": 90,
   "metadata": {
    "scrolled": false
   },
   "outputs": [
    {
     "name": "stdout",
     "output_type": "stream",
     "text": [
      "Model: \"sequential_102\"\n",
      "_________________________________________________________________\n",
      "Layer (type)                 Output Shape              Param #   \n",
      "=================================================================\n",
      "dense_569 (Dense)            (None, 16)                1616      \n",
      "_________________________________________________________________\n",
      "dense_570 (Dense)            (None, 8)                 136       \n",
      "_________________________________________________________________\n",
      "dense_571 (Dense)            (None, 6)                 54        \n",
      "=================================================================\n",
      "Total params: 1,806\n",
      "Trainable params: 1,806\n",
      "Non-trainable params: 0\n",
      "_________________________________________________________________\n"
     ]
    },
    {
     "name": "stderr",
     "output_type": "stream",
     "text": [
      "C:\\Users\\Oliver\\anaconda3\\lib\\site-packages\\keras\\engine\\training.py:297: UserWarning: Discrepancy between trainable weights and collected trainable weights, did you set `model.trainable` without calling `model.compile` after ?\n",
      "  'Discrepancy between trainable weights and collected trainable'\n"
     ]
    },
    {
     "name": "stdout",
     "output_type": "stream",
     "text": [
      "0 [D loss: 0.694124, acc.: 0.00%] [G loss: 0.692611]\n",
      "33.567490489874544\n",
      "1000 [D loss: 0.697552, acc.: 50.00%] [G loss: 0.708291]\n",
      "1.2035398198916039\n",
      "2000 [D loss: 0.693544, acc.: 42.19%] [G loss: 0.692391]\n",
      "3.5690866140154283\n",
      "3000 [D loss: 0.692292, acc.: 48.44%] [G loss: 0.692647]\n",
      "1.266019097588884\n",
      "4000 [D loss: 0.697593, acc.: 40.62%] [G loss: 0.676987]\n",
      "2.018953590952689\n",
      "5000 [D loss: 0.692342, acc.: 53.12%] [G loss: 0.694967]\n",
      "1.9322437735045952\n",
      "6000 [D loss: 0.693255, acc.: 51.56%] [G loss: 0.694658]\n",
      "1.4718698261416097\n",
      "7000 [D loss: 0.688839, acc.: 48.44%] [G loss: 0.686693]\n",
      "5.088454695687276\n",
      "8000 [D loss: 0.693831, acc.: 51.56%] [G loss: 0.697952]\n",
      "5.492831058941679\n",
      "9000 [D loss: 0.692700, acc.: 50.00%] [G loss: 0.704617]\n",
      "4.470685507027639\n",
      "10000 [D loss: 0.685139, acc.: 56.25%] [G loss: 0.698632]\n",
      "3.8531577794012772\n",
      "11000 [D loss: 0.691287, acc.: 46.88%] [G loss: 0.694882]\n",
      "10.112022492782803\n",
      "12000 [D loss: 0.696568, acc.: 48.44%] [G loss: 0.682082]\n",
      "2.0545212550274954\n",
      "13000 [D loss: 0.692052, acc.: 51.56%] [G loss: 0.698816]\n",
      "2.0504284012498175\n",
      "14000 [D loss: 0.685534, acc.: 51.56%] [G loss: 0.729245]\n",
      "1.5606838123726388\n",
      "15000 [D loss: 0.698339, acc.: 51.56%] [G loss: 0.690698]\n",
      "1.6028943034956835\n",
      "16000 [D loss: 0.682581, acc.: 56.25%] [G loss: 0.705060]\n",
      "2.9788810432791673\n",
      "17000 [D loss: 0.674756, acc.: 53.12%] [G loss: 0.711387]\n",
      "1.4090996549091102\n",
      "18000 [D loss: 0.684062, acc.: 53.12%] [G loss: 0.702309]\n",
      "1.2638476181313725\n",
      "19000 [D loss: 0.681896, acc.: 54.69%] [G loss: 0.719015]\n",
      "2.096584262203038\n",
      "20000 [D loss: 0.697466, acc.: 51.56%] [G loss: 0.687929]\n",
      "1.6789242215496065\n",
      "21000 [D loss: 0.695722, acc.: 43.75%] [G loss: 0.682243]\n",
      "4.015949889813076\n",
      "22000 [D loss: 0.686706, acc.: 50.00%] [G loss: 0.741827]\n",
      "3.547607150126802\n",
      "23000 [D loss: 0.698899, acc.: 46.88%] [G loss: 0.708528]\n",
      "1.2885307493847062\n",
      "24000 [D loss: 0.689356, acc.: 56.25%] [G loss: 0.720973]\n",
      "4.941033591627965\n",
      "25000 [D loss: 0.690602, acc.: 56.25%] [G loss: 0.712971]\n",
      "2.510879721466403\n",
      "26000 [D loss: 0.694877, acc.: 46.88%] [G loss: 0.714148]\n",
      "0.7827905741673229\n",
      "27000 [D loss: 0.696248, acc.: 43.75%] [G loss: 0.700492]\n",
      "0.9925305970156956\n",
      "28000 [D loss: 0.690602, acc.: 50.00%] [G loss: 0.693592]\n",
      "5.993790785200623\n",
      "29000 [D loss: 0.691818, acc.: 46.88%] [G loss: 0.687137]\n",
      "5.908219809421125\n",
      "30000 [D loss: 0.691190, acc.: 48.44%] [G loss: 0.720504]\n",
      "2.0463550752651294\n",
      "31000 [D loss: 0.694134, acc.: 54.69%] [G loss: 0.681668]\n",
      "4.9693902797597405\n",
      "32000 [D loss: 0.686804, acc.: 50.00%] [G loss: 0.697481]\n",
      "2.9627773601403162\n",
      "33000 [D loss: 0.690979, acc.: 50.00%] [G loss: 0.697333]\n",
      "1.71993276629386\n",
      "34000 [D loss: 0.695470, acc.: 46.88%] [G loss: 0.698022]\n",
      "1.5210222614233049\n",
      "35000 [D loss: 0.694175, acc.: 45.31%] [G loss: 0.734051]\n",
      "1.0794676584703442\n",
      "36000 [D loss: 0.688518, acc.: 62.50%] [G loss: 0.699373]\n",
      "7.19202937229298\n",
      "37000 [D loss: 0.687480, acc.: 50.00%] [G loss: 0.719497]\n",
      "4.468136954166426\n",
      "38000 [D loss: 0.677477, acc.: 68.75%] [G loss: 0.692248]\n",
      "0.7160703364874903\n",
      "39000 [D loss: 0.690463, acc.: 57.81%] [G loss: 0.695579]\n",
      "8.003007519451652\n",
      "40000 [D loss: 0.694778, acc.: 54.69%] [G loss: 0.667897]\n",
      "1.948503728056569\n",
      "41000 [D loss: 0.696147, acc.: 50.00%] [G loss: 0.690536]\n",
      "8.283973293528224\n",
      "42000 [D loss: 0.697185, acc.: 35.94%] [G loss: 0.710495]\n",
      "0.6549246130015641\n",
      "43000 [D loss: 0.689125, acc.: 46.88%] [G loss: 0.714607]\n",
      "1.0027591675090082\n",
      "44000 [D loss: 0.695685, acc.: 53.12%] [G loss: 0.749412]\n",
      "0.5644406301053602\n",
      "45000 [D loss: 0.691819, acc.: 53.12%] [G loss: 0.696332]\n",
      "4.981594335478283\n",
      "46000 [D loss: 0.687916, acc.: 54.69%] [G loss: 0.684670]\n",
      "1.4829273022328358\n",
      "47000 [D loss: 0.696126, acc.: 46.88%] [G loss: 0.668072]\n",
      "0.1808058465858644\n",
      "48000 [D loss: 0.693166, acc.: 45.31%] [G loss: 0.696120]\n",
      "2.33836109478127\n",
      "49000 [D loss: 0.684255, acc.: 50.00%] [G loss: 0.722560]\n",
      "0.5153865172794536\n",
      "50000 [D loss: 0.689517, acc.: 50.00%] [G loss: 0.693494]\n",
      "6.283751053632289\n",
      "51000 [D loss: 0.692424, acc.: 50.00%] [G loss: 0.703406]\n",
      "1.7367345632046591\n",
      "52000 [D loss: 0.702724, acc.: 48.44%] [G loss: 0.716736]\n",
      "1.953956380703202\n",
      "53000 [D loss: 0.662751, acc.: 67.19%] [G loss: 0.706946]\n",
      "3.257115222228909\n",
      "54000 [D loss: 0.703230, acc.: 46.88%] [G loss: 0.700500]\n",
      "2.1558991254291238\n"
     ]
    },
    {
     "ename": "KeyboardInterrupt",
     "evalue": "",
     "output_type": "error",
     "traceback": [
      "\u001b[1;31m---------------------------------------------------------------------------\u001b[0m",
      "\u001b[1;31mKeyboardInterrupt\u001b[0m                         Traceback (most recent call last)",
      "\u001b[1;32m<ipython-input-90-dc9d383df0fc>\u001b[0m in \u001b[0;36m<module>\u001b[1;34m\u001b[0m\n\u001b[0;32m    297\u001b[0m \u001b[1;32mif\u001b[0m \u001b[0m__name__\u001b[0m \u001b[1;33m==\u001b[0m \u001b[1;34m'__main__'\u001b[0m\u001b[1;33m:\u001b[0m\u001b[1;33m\u001b[0m\u001b[1;33m\u001b[0m\u001b[0m\n\u001b[0;32m    298\u001b[0m     \u001b[0mcgan\u001b[0m \u001b[1;33m=\u001b[0m \u001b[0mCGAN\u001b[0m\u001b[1;33m(\u001b[0m\u001b[1;33m)\u001b[0m\u001b[1;33m\u001b[0m\u001b[1;33m\u001b[0m\u001b[0m\n\u001b[1;32m--> 299\u001b[1;33m     \u001b[0mcgan\u001b[0m\u001b[1;33m.\u001b[0m\u001b[0mtrain\u001b[0m\u001b[1;33m(\u001b[0m\u001b[0mepochs\u001b[0m\u001b[1;33m=\u001b[0m\u001b[1;36m100000\u001b[0m\u001b[1;33m,\u001b[0m \u001b[0mbatch_size\u001b[0m\u001b[1;33m=\u001b[0m\u001b[1;36m32\u001b[0m\u001b[1;33m,\u001b[0m \u001b[0msample_interval\u001b[0m\u001b[1;33m=\u001b[0m\u001b[1;36m1000\u001b[0m\u001b[1;33m)\u001b[0m\u001b[1;33m\u001b[0m\u001b[1;33m\u001b[0m\u001b[0m\n\u001b[0m",
      "\u001b[1;32m<ipython-input-90-dc9d383df0fc>\u001b[0m in \u001b[0;36mtrain\u001b[1;34m(self, epochs, batch_size, sample_interval)\u001b[0m\n\u001b[0;32m    147\u001b[0m             \u001b[1;31m# Train the discriminator\u001b[0m\u001b[1;33m\u001b[0m\u001b[1;33m\u001b[0m\u001b[1;33m\u001b[0m\u001b[0m\n\u001b[0;32m    148\u001b[0m             \u001b[0md_loss_real\u001b[0m \u001b[1;33m=\u001b[0m \u001b[0mself\u001b[0m\u001b[1;33m.\u001b[0m\u001b[0mdiscriminator\u001b[0m\u001b[1;33m.\u001b[0m\u001b[0mtrain_on_batch\u001b[0m\u001b[1;33m(\u001b[0m\u001b[1;33m[\u001b[0m\u001b[0mimgs\u001b[0m\u001b[1;33m,\u001b[0m \u001b[0mlabels\u001b[0m\u001b[1;33m]\u001b[0m\u001b[1;33m,\u001b[0m \u001b[0mvalid\u001b[0m\u001b[1;33m)\u001b[0m\u001b[1;33m\u001b[0m\u001b[1;33m\u001b[0m\u001b[0m\n\u001b[1;32m--> 149\u001b[1;33m             \u001b[0md_loss_fake\u001b[0m \u001b[1;33m=\u001b[0m \u001b[0mself\u001b[0m\u001b[1;33m.\u001b[0m\u001b[0mdiscriminator\u001b[0m\u001b[1;33m.\u001b[0m\u001b[0mtrain_on_batch\u001b[0m\u001b[1;33m(\u001b[0m\u001b[1;33m[\u001b[0m\u001b[0mgen_imgs\u001b[0m\u001b[1;33m,\u001b[0m \u001b[0mlabels\u001b[0m\u001b[1;33m]\u001b[0m\u001b[1;33m,\u001b[0m \u001b[0mfake\u001b[0m\u001b[1;33m)\u001b[0m\u001b[1;33m\u001b[0m\u001b[1;33m\u001b[0m\u001b[0m\n\u001b[0m\u001b[0;32m    150\u001b[0m             \u001b[0md_loss\u001b[0m \u001b[1;33m=\u001b[0m \u001b[1;36m0.5\u001b[0m \u001b[1;33m*\u001b[0m \u001b[0mnp\u001b[0m\u001b[1;33m.\u001b[0m\u001b[0madd\u001b[0m\u001b[1;33m(\u001b[0m\u001b[0md_loss_real\u001b[0m\u001b[1;33m,\u001b[0m \u001b[0md_loss_fake\u001b[0m\u001b[1;33m)\u001b[0m\u001b[1;33m\u001b[0m\u001b[1;33m\u001b[0m\u001b[0m\n\u001b[0;32m    151\u001b[0m             \u001b[0md_hist\u001b[0m\u001b[1;33m.\u001b[0m\u001b[0mappend\u001b[0m\u001b[1;33m(\u001b[0m\u001b[0md_loss\u001b[0m\u001b[1;33m[\u001b[0m\u001b[1;36m0\u001b[0m\u001b[1;33m]\u001b[0m\u001b[1;33m)\u001b[0m\u001b[1;33m\u001b[0m\u001b[1;33m\u001b[0m\u001b[0m\n",
      "\u001b[1;32m~\\anaconda3\\lib\\site-packages\\keras\\engine\\training.py\u001b[0m in \u001b[0;36mtrain_on_batch\u001b[1;34m(self, x, y, sample_weight, class_weight, reset_metrics)\u001b[0m\n\u001b[0;32m   1515\u001b[0m \u001b[1;33m\u001b[0m\u001b[0m\n\u001b[0;32m   1516\u001b[0m         \u001b[1;32mif\u001b[0m \u001b[0mreset_metrics\u001b[0m\u001b[1;33m:\u001b[0m\u001b[1;33m\u001b[0m\u001b[1;33m\u001b[0m\u001b[0m\n\u001b[1;32m-> 1517\u001b[1;33m             \u001b[0mself\u001b[0m\u001b[1;33m.\u001b[0m\u001b[0mreset_metrics\u001b[0m\u001b[1;33m(\u001b[0m\u001b[1;33m)\u001b[0m\u001b[1;33m\u001b[0m\u001b[1;33m\u001b[0m\u001b[0m\n\u001b[0m\u001b[0;32m   1518\u001b[0m         \u001b[1;32mreturn\u001b[0m \u001b[0munpack_singleton\u001b[0m\u001b[1;33m(\u001b[0m\u001b[0moutputs\u001b[0m\u001b[1;33m)\u001b[0m\u001b[1;33m\u001b[0m\u001b[1;33m\u001b[0m\u001b[0m\n\u001b[0;32m   1519\u001b[0m \u001b[1;33m\u001b[0m\u001b[0m\n",
      "\u001b[1;32m~\\anaconda3\\lib\\site-packages\\keras\\engine\\training.py\u001b[0m in \u001b[0;36mreset_metrics\u001b[1;34m(self)\u001b[0m\n\u001b[0;32m    278\u001b[0m         \u001b[0mmetrics\u001b[0m \u001b[1;33m=\u001b[0m \u001b[0mself\u001b[0m\u001b[1;33m.\u001b[0m\u001b[0m_get_training_eval_metrics\u001b[0m\u001b[1;33m(\u001b[0m\u001b[1;33m)\u001b[0m\u001b[1;33m\u001b[0m\u001b[1;33m\u001b[0m\u001b[0m\n\u001b[0;32m    279\u001b[0m         \u001b[1;32mfor\u001b[0m \u001b[0mm\u001b[0m \u001b[1;32min\u001b[0m \u001b[0mmetrics\u001b[0m\u001b[1;33m:\u001b[0m\u001b[1;33m\u001b[0m\u001b[1;33m\u001b[0m\u001b[0m\n\u001b[1;32m--> 280\u001b[1;33m             \u001b[0mm\u001b[0m\u001b[1;33m.\u001b[0m\u001b[0mreset_states\u001b[0m\u001b[1;33m(\u001b[0m\u001b[1;33m)\u001b[0m\u001b[1;33m\u001b[0m\u001b[1;33m\u001b[0m\u001b[0m\n\u001b[0m\u001b[0;32m    281\u001b[0m \u001b[1;33m\u001b[0m\u001b[0m\n\u001b[0;32m    282\u001b[0m     \u001b[1;32mdef\u001b[0m \u001b[0m_check_trainable_weights_consistency\u001b[0m\u001b[1;33m(\u001b[0m\u001b[0mself\u001b[0m\u001b[1;33m)\u001b[0m\u001b[1;33m:\u001b[0m\u001b[1;33m\u001b[0m\u001b[1;33m\u001b[0m\u001b[0m\n",
      "\u001b[1;32m~\\anaconda3\\lib\\site-packages\\keras\\metrics.py\u001b[0m in \u001b[0;36mreset_states\u001b[1;34m(self)\u001b[0m\n\u001b[0;32m    103\u001b[0m         \u001b[0mwhen\u001b[0m \u001b[0ma\u001b[0m \u001b[0mmetric\u001b[0m \u001b[1;32mis\u001b[0m \u001b[0mevaluated\u001b[0m \u001b[0mduring\u001b[0m \u001b[0mtraining\u001b[0m\u001b[1;33m.\u001b[0m\u001b[1;33m\u001b[0m\u001b[1;33m\u001b[0m\u001b[0m\n\u001b[0;32m    104\u001b[0m         \"\"\"\n\u001b[1;32m--> 105\u001b[1;33m         \u001b[0mK\u001b[0m\u001b[1;33m.\u001b[0m\u001b[0mbatch_set_value\u001b[0m\u001b[1;33m(\u001b[0m\u001b[1;33m[\u001b[0m\u001b[1;33m(\u001b[0m\u001b[0mv\u001b[0m\u001b[1;33m,\u001b[0m \u001b[1;36m0\u001b[0m\u001b[1;33m)\u001b[0m \u001b[1;32mfor\u001b[0m \u001b[0mv\u001b[0m \u001b[1;32min\u001b[0m \u001b[0mself\u001b[0m\u001b[1;33m.\u001b[0m\u001b[0mweights\u001b[0m\u001b[1;33m]\u001b[0m\u001b[1;33m)\u001b[0m\u001b[1;33m\u001b[0m\u001b[1;33m\u001b[0m\u001b[0m\n\u001b[0m\u001b[0;32m    106\u001b[0m \u001b[1;33m\u001b[0m\u001b[0m\n\u001b[0;32m    107\u001b[0m     \u001b[1;33m@\u001b[0m\u001b[0mabc\u001b[0m\u001b[1;33m.\u001b[0m\u001b[0mabstractmethod\u001b[0m\u001b[1;33m\u001b[0m\u001b[1;33m\u001b[0m\u001b[0m\n",
      "\u001b[1;32m~\\anaconda3\\lib\\site-packages\\keras\\backend\\tensorflow_backend.py\u001b[0m in \u001b[0;36mbatch_set_value\u001b[1;34m(tuples)\u001b[0m\n\u001b[0;32m   2958\u001b[0m             \u001b[0;31m`\u001b[0m\u001b[0mvalue\u001b[0m\u001b[0;31m`\u001b[0m \u001b[0mshould\u001b[0m \u001b[0mbe\u001b[0m \u001b[0ma\u001b[0m \u001b[0mNumpy\u001b[0m \u001b[0marray\u001b[0m\u001b[1;33m.\u001b[0m\u001b[1;33m\u001b[0m\u001b[1;33m\u001b[0m\u001b[0m\n\u001b[0;32m   2959\u001b[0m     \"\"\"\n\u001b[1;32m-> 2960\u001b[1;33m     \u001b[0mtf_keras_backend\u001b[0m\u001b[1;33m.\u001b[0m\u001b[0mbatch_set_value\u001b[0m\u001b[1;33m(\u001b[0m\u001b[0mtuples\u001b[0m\u001b[1;33m)\u001b[0m\u001b[1;33m\u001b[0m\u001b[1;33m\u001b[0m\u001b[0m\n\u001b[0m\u001b[0;32m   2961\u001b[0m \u001b[1;33m\u001b[0m\u001b[0m\n\u001b[0;32m   2962\u001b[0m \u001b[1;33m\u001b[0m\u001b[0m\n",
      "\u001b[1;32m~\\anaconda3\\lib\\site-packages\\tensorflow\\python\\keras\\backend.py\u001b[0m in \u001b[0;36mbatch_set_value\u001b[1;34m(tuples)\u001b[0m\n\u001b[0;32m   3382\u001b[0m   \u001b[1;32mif\u001b[0m \u001b[0mops\u001b[0m\u001b[1;33m.\u001b[0m\u001b[0mexecuting_eagerly_outside_functions\u001b[0m\u001b[1;33m(\u001b[0m\u001b[1;33m)\u001b[0m\u001b[1;33m:\u001b[0m\u001b[1;33m\u001b[0m\u001b[1;33m\u001b[0m\u001b[0m\n\u001b[0;32m   3383\u001b[0m     \u001b[1;32mfor\u001b[0m \u001b[0mx\u001b[0m\u001b[1;33m,\u001b[0m \u001b[0mvalue\u001b[0m \u001b[1;32min\u001b[0m \u001b[0mtuples\u001b[0m\u001b[1;33m:\u001b[0m\u001b[1;33m\u001b[0m\u001b[1;33m\u001b[0m\u001b[0m\n\u001b[1;32m-> 3384\u001b[1;33m       \u001b[0mx\u001b[0m\u001b[1;33m.\u001b[0m\u001b[0massign\u001b[0m\u001b[1;33m(\u001b[0m\u001b[0mnp\u001b[0m\u001b[1;33m.\u001b[0m\u001b[0masarray\u001b[0m\u001b[1;33m(\u001b[0m\u001b[0mvalue\u001b[0m\u001b[1;33m,\u001b[0m \u001b[0mdtype\u001b[0m\u001b[1;33m=\u001b[0m\u001b[0mdtype\u001b[0m\u001b[1;33m(\u001b[0m\u001b[0mx\u001b[0m\u001b[1;33m)\u001b[0m\u001b[1;33m)\u001b[0m\u001b[1;33m)\u001b[0m\u001b[1;33m\u001b[0m\u001b[1;33m\u001b[0m\u001b[0m\n\u001b[0m\u001b[0;32m   3385\u001b[0m   \u001b[1;32melse\u001b[0m\u001b[1;33m:\u001b[0m\u001b[1;33m\u001b[0m\u001b[1;33m\u001b[0m\u001b[0m\n\u001b[0;32m   3386\u001b[0m     \u001b[1;32mwith\u001b[0m \u001b[0mget_graph\u001b[0m\u001b[1;33m(\u001b[0m\u001b[1;33m)\u001b[0m\u001b[1;33m.\u001b[0m\u001b[0mas_default\u001b[0m\u001b[1;33m(\u001b[0m\u001b[1;33m)\u001b[0m\u001b[1;33m:\u001b[0m\u001b[1;33m\u001b[0m\u001b[1;33m\u001b[0m\u001b[0m\n",
      "\u001b[1;32m~\\anaconda3\\lib\\site-packages\\tensorflow\\python\\ops\\resource_variable_ops.py\u001b[0m in \u001b[0;36massign\u001b[1;34m(self, value, use_locking, name, read_value)\u001b[0m\n\u001b[0;32m    846\u001b[0m       \u001b[0mself\u001b[0m\u001b[1;33m.\u001b[0m\u001b[0m_shape\u001b[0m\u001b[1;33m.\u001b[0m\u001b[0massert_is_compatible_with\u001b[0m\u001b[1;33m(\u001b[0m\u001b[0mvalue_tensor\u001b[0m\u001b[1;33m.\u001b[0m\u001b[0mshape\u001b[0m\u001b[1;33m)\u001b[0m\u001b[1;33m\u001b[0m\u001b[1;33m\u001b[0m\u001b[0m\n\u001b[0;32m    847\u001b[0m       assign_op = gen_resource_variable_ops.assign_variable_op(\n\u001b[1;32m--> 848\u001b[1;33m           self.handle, value_tensor, name=name)\n\u001b[0m\u001b[0;32m    849\u001b[0m       \u001b[1;32mif\u001b[0m \u001b[0mread_value\u001b[0m\u001b[1;33m:\u001b[0m\u001b[1;33m\u001b[0m\u001b[1;33m\u001b[0m\u001b[0m\n\u001b[0;32m    850\u001b[0m         \u001b[1;32mreturn\u001b[0m \u001b[0mself\u001b[0m\u001b[1;33m.\u001b[0m\u001b[0m_lazy_read\u001b[0m\u001b[1;33m(\u001b[0m\u001b[0massign_op\u001b[0m\u001b[1;33m)\u001b[0m\u001b[1;33m\u001b[0m\u001b[1;33m\u001b[0m\u001b[0m\n",
      "\u001b[1;32m~\\anaconda3\\lib\\site-packages\\tensorflow\\python\\ops\\gen_resource_variable_ops.py\u001b[0m in \u001b[0;36massign_variable_op\u001b[1;34m(resource, value, name)\u001b[0m\n\u001b[0;32m    140\u001b[0m       _result = pywrap_tfe.TFE_Py_FastPathExecute(\n\u001b[0;32m    141\u001b[0m         \u001b[0m_ctx\u001b[0m\u001b[1;33m.\u001b[0m\u001b[0m_context_handle\u001b[0m\u001b[1;33m,\u001b[0m \u001b[0mtld\u001b[0m\u001b[1;33m.\u001b[0m\u001b[0mdevice_name\u001b[0m\u001b[1;33m,\u001b[0m \u001b[1;34m\"AssignVariableOp\"\u001b[0m\u001b[1;33m,\u001b[0m \u001b[0mname\u001b[0m\u001b[1;33m,\u001b[0m\u001b[1;33m\u001b[0m\u001b[1;33m\u001b[0m\u001b[0m\n\u001b[1;32m--> 142\u001b[1;33m         tld.op_callbacks, resource, value)\n\u001b[0m\u001b[0;32m    143\u001b[0m       \u001b[1;32mreturn\u001b[0m \u001b[0m_result\u001b[0m\u001b[1;33m\u001b[0m\u001b[1;33m\u001b[0m\u001b[0m\n\u001b[0;32m    144\u001b[0m     \u001b[1;32mexcept\u001b[0m \u001b[0m_core\u001b[0m\u001b[1;33m.\u001b[0m\u001b[0m_FallbackException\u001b[0m\u001b[1;33m:\u001b[0m\u001b[1;33m\u001b[0m\u001b[1;33m\u001b[0m\u001b[0m\n",
      "\u001b[1;31mKeyboardInterrupt\u001b[0m: "
     ]
    }
   ],
   "source": [
    "from __future__ import print_function, division\n",
    "\n",
    "from keras.datasets import mnist\n",
    "from keras.layers import Input, Dense, Reshape, Flatten, Dropout, multiply, Concatenate\n",
    "from keras.layers import BatchNormalization, Activation, Embedding, ZeroPadding2D\n",
    "from keras.layers.advanced_activations import LeakyReLU\n",
    "from keras.layers.convolutional import UpSampling2D, Conv2D\n",
    "from keras.models import Sequential, Model\n",
    "from tensorflow.keras.optimizers import Adam\n",
    "from matplotlib.patches import Polygon\n",
    "import matplotlib.pyplot as plt\n",
    "import pickle\n",
    "import numpy as np\n",
    "d_hist = []\n",
    "g_hist = []\n",
    "chi2 = []\n",
    "plt.rc('text', usetex=True)\n",
    "plt.rcParams['text.latex.preamble']=[r\"\\usepackage{amsmath}\"]    \n",
    "\n",
    "class CGAN():\n",
    "    def __init__(self):\n",
    "        # Input shape   \n",
    "        self.img_shape = 6\n",
    "        self.num_classes = 8\n",
    "        self.latent_dim = 100\n",
    "\n",
    "        optimizer = Adam()\n",
    "\n",
    "        # Build and compile the discriminator\n",
    "        self.discriminator = self.build_discriminator()\n",
    "        self.discriminator.compile(loss=['binary_crossentropy'],\n",
    "            optimizer=optimizer,\n",
    "            metrics=['accuracy'])\n",
    "\n",
    "        # Build the generator\n",
    "        self.generator = self.build_generator()\n",
    "\n",
    "        # The generator takes noise and the target label as input\n",
    "        # and generates the corresponding digit of that label\n",
    "        noise = Input(shape=(self.latent_dim,))\n",
    "        label = Input(shape=(1,))\n",
    "        img = self.generator([noise, label])\n",
    "\n",
    "        # For the combined model we will only train the generator\n",
    "        self.discriminator.trainable = False\n",
    "\n",
    "        # The discriminator takes generated image as input and determines validity\n",
    "        # and the label of that image\n",
    "        valid = self.discriminator([img, label])\n",
    "\n",
    "        # The combined model  (stacked generator and discriminator)\n",
    "        # Trains generator to fool discriminator\n",
    "        self.combined = Model([noise, label], valid)\n",
    "        self.combined.compile(loss=['binary_crossentropy'],\n",
    "            optimizer=optimizer)\n",
    "\n",
    "    def build_generator(self):\n",
    "\n",
    "        model = Sequential()     \n",
    "        #model.add(Dense(16, input_dim=self.latent_dim, activation='relu'))\n",
    "        #model.add(Dense(8, activation='relu'))\n",
    "        #model.add(Dense(4, activation='relu'))   \n",
    "        #model.add(Dense(2, activation='relu'))   \n",
    "        #model.add(Dense(4, activation='relu'))\n",
    "        #model.add(Dense(8, activation='relu'))\n",
    "        #model.add(Dense(16, activation='relu'))       \n",
    "        #model.add(Dense(np.prod(self.img_shape)))        \n",
    "        model.add(Dense(16, input_dim=self.latent_dim, activation='relu'))\n",
    "        model.add(Dense(8, activation='relu'))\n",
    "        model.add(Dense(np.prod(self.img_shape)))        \n",
    "        model.summary()\n",
    "        noise = Input(shape=(self.latent_dim,))\n",
    "        label = Input(shape=(1,), dtype='int32')\n",
    "        label_embedding = Flatten()(Embedding(self.num_classes, self.latent_dim)(label))\n",
    "\n",
    "        model_input = multiply([noise, label_embedding])\n",
    "        img = model(model_input)\n",
    "\n",
    "        return Model([noise, label], img)\n",
    "\n",
    "    def build_discriminator(self):\n",
    "\n",
    "        model = Sequential()     \n",
    "        #model.add(Dense(16, input_dim=self.img_shape, activation='relu')) \n",
    "        #model.add(Dense(8, activation='relu')) \n",
    "        #model.add(Dense(4, activation='relu')) \n",
    "        #model.add(Dense(1, activation='sigmoid'))\n",
    "        model.add(Dense(16, input_dim=self.img_shape, activation='relu')) \n",
    "        model.add(Dense(8, activation='relu')) \n",
    "        model.add(Dense(1, activation='sigmoid'))\n",
    "        \n",
    "        img = Input(shape=(self.img_shape,), dtype='float32')\n",
    "        label = Input(shape=(1,), dtype='int32')\n",
    "\n",
    "        label_embedding = Flatten()(Embedding(self.num_classes, np.prod(self.img_shape))(label))       \n",
    "        \n",
    "        model_input = multiply([img, label_embedding])\n",
    "        \n",
    "        validity = model(model_input)\n",
    "\n",
    "        return Model([img, label], validity)\n",
    "\n",
    "    def train(self, epochs, batch_size=128, sample_interval=50):      \n",
    "        \n",
    "        pickle_in = open(\"X_noChi.pickle\", \"rb\")\n",
    "        X_train = pickle.load(pickle_in)\n",
    "\n",
    "        pickle_in = open(\"y_noChi.pickle\", \"rb\")\n",
    "        y_train = pickle.load(pickle_in)\n",
    "        \n",
    "        pickle_in = open(\"X_experimental.pickle\", \"rb\")\n",
    "        X_experimental = pickle.load(pickle_in)\n",
    "        y_train = y_train.reshape(-1, 1)\n",
    "        \n",
    "        pickle_in = open(\"errors.pickle\", \"rb\")\n",
    "        errors = pickle.load(pickle_in)\n",
    "        \n",
    "        pickle_in = open(\"numBins.pickle\", \"rb\")\n",
    "        numBins = pickle.load(pickle_in)\n",
    "        \n",
    "        # Adversarial ground truths\n",
    "        valid = np.ones((batch_size, 1))\n",
    "        fake = np.zeros((batch_size, 1))\n",
    "        \n",
    "        labels = [3]\n",
    "        idx = np.where(y_train==labels[0])[0][0]\n",
    "        true_sample_with_label = X_train[idx]\n",
    "        #true_sample_with_label = X_experimental\n",
    "        \n",
    "        bestChi2 = 500\n",
    "        for epoch in range(epochs):\n",
    "\n",
    "            # ---------------------\n",
    "            #  Train Discriminator\n",
    "            # ---------------------\n",
    "\n",
    "            # Select a random half batch of images\n",
    "            idx = np.random.randint(0, X_train.shape[0], batch_size)\n",
    "            imgs, labels = X_train[idx], y_train[idx]\n",
    "\n",
    "            # Sample noise as generator input\n",
    "            noise = np.random.normal(0, 1, (batch_size, self.latent_dim))\n",
    "            \n",
    "            # Generate a half batch of new images\n",
    "            gen_imgs = self.generator.predict([noise, labels])\n",
    "\n",
    "            # Train the discriminator\n",
    "            d_loss_real = self.discriminator.train_on_batch([imgs, labels], valid)\n",
    "            d_loss_fake = self.discriminator.train_on_batch([gen_imgs, labels], fake)\n",
    "            d_loss = 0.5 * np.add(d_loss_real, d_loss_fake)\n",
    "            d_hist.append(d_loss[0])\n",
    "            # ---------------------\n",
    "            #  Train Generator\n",
    "            # ---------------------\n",
    "\n",
    "            # Condition on labels\n",
    "            #sampled_labels = np.random.randint(0, self.num_classes, batch_size).reshape(-1, 1)\n",
    "            idx = np.random.randint(0, X_train.shape[0], batch_size)\n",
    "            sampled_labels = y_train[idx]\n",
    "            \n",
    "            # Train the generator\n",
    "            g_loss = self.combined.train_on_batch([noise, sampled_labels], valid)\n",
    "            g_hist.append(g_loss)\n",
    "            # Plot the progress\n",
    "            #print (\"%d [D loss: %f, acc.: %.2f%%] [G loss: %f]\" % (epoch, d_loss[0], 100*d_loss[1], g_loss))           \n",
    "\n",
    "            # If at save interval => save generated image samples\n",
    "            if epoch % sample_interval == 0:\n",
    "                print (\"%d [D loss: %f, acc.: %.2f%%] [G loss: %f]\" % (epoch, d_loss[0], 100*d_loss[1], g_loss))\n",
    "                noise = np.random.normal(0, 1, (1, self.latent_dim))\n",
    "                gen_imgs = self.generator.predict([noise, np.array(labels)])\n",
    "                predictions = gen_imgs[0]\n",
    "                modelErrors = errors[:,0]  \n",
    "                expErrors = errors[:,1] \n",
    "                #self.sample_images(epoch, X_experimental,errors,X_train,y_train,numBins,true_sample_with_label,predictions)                      \n",
    "                 \n",
    "                v = computeModelFit(predictions,X_experimental,modelErrors,expErrors)\n",
    "                print(v)\n",
    "                if(epoch > 2000 and len(chi2) !=0 and v < bestChi2):\n",
    "                    self.generator.save('generator')\n",
    "                    bestChi2 = v\n",
    "                chi2.append(v)\n",
    "                \n",
    "                plt.show()\n",
    "        self.saveData(\"chi2.pickle\", chi2)\n",
    "        \n",
    "        plt.show()\n",
    "        \n",
    "    \n",
    "\n",
    "    def interpolate_from_a_to_b_for_c(model, X, labels, a=None, b=None, x_c=None, alpha=0.):\n",
    "    '''Perform interpolation between two classes a and b for any sample x_c.\n",
    "    model: a trained generative model\n",
    "    X: data in the original space with shape: (n_samples, n_features)\n",
    "    labels: array of class labels (n_samples, )\n",
    "    a, b: class labels a and b\n",
    "    x_c: input sample to manipulate (1, n_features)\n",
    "    alpha: scalar for the magnitude and direction of the interpolation\n",
    "    '''\n",
    "    # Encode samples to the latent space  \n",
    "    Z_a, Z_b = model.encode(X[labels == a]), model.encode(X[labels == b])\n",
    "    # Find the centroids of the classes a, b in the latent space\n",
    "    z_a_centoid = Z_a.mean(axis=0)\n",
    "    z_b_centoid = Z_b.mean(axis=0)\n",
    "    # The interpolation vector pointing from b -> a\n",
    "    z_b2a = z_a_centoid - z_b_centoid \n",
    "    # Manipulate x_c\n",
    "    z_c = model.encode(x_c)\n",
    "    z_c_interp = z_c + alpha * z_b2a\n",
    "    return model.decode(z_c_interp)\n",
    "\n",
    "\n",
    "    def saveData(self,filename, data):\n",
    "        pickle_out = open(filename, \"wb\")\n",
    "        pickle.dump(data, pickle_out)\n",
    "        pickle_out.close()  \n",
    "        \n",
    "    def sample_images(self, epoch, X_experimental,errors,X_train, y_train,numBins,true_sample_with_label,predictions):\n",
    "        r, c = 1,1\n",
    "        noise = np.random.normal(0, 1, (1, self.latent_dim))\n",
    "        #sampled_labels = np.arange(0, 10).reshape(-1, 1)    \n",
    "        idx = np.random.randint(0, y_train.shape[0], r*c)\n",
    "        # min and max value in training set except (0) which is the last element\n",
    "        labels = np.array([y_train[:-1].min(), y_train.max()])\n",
    "        labels=[[3]]\n",
    "        #gen_imgs = self.generator.predict([noise, np.array([[label]])])\n",
    "        #gen_imgs = self.generator.predict([noise, np.array(labels)])\n",
    "                \n",
    "        fig, axs = plt.subplots(r, c)        \n",
    "        #if(not isinstance(axs, list)):\n",
    "        #    axs = [axs]\n",
    "        plt.rcParams[\"figure.figsize\"] = (16,10)\n",
    "        plt.subplots_adjust(hspace=0.5)        \n",
    "        \n",
    "        cnt = 0        \n",
    "        \n",
    "        modelErrors = errors[:,0]  \n",
    "        expErrors = errors[:,1]  \n",
    "        binWidths = errors[:,2]\n",
    "        bins = errors[:,3]\n",
    "        modelErrorsMinus = errors[:,4]  \n",
    "        expErrorsMinus = errors[:,5]  \n",
    "        adjustedModelErrors =  [0.01 if a_ < 0.01 else a_ for a_ in modelErrors]\n",
    "        adjustedExpErrors =  [0.01 if a_ < 0.01 else a_ for a_ in expErrors]\n",
    "        \n",
    "        fig.suptitle(r'\\(\\chi^2 = {} \\)'.format(labels[0]), fontsize=24)\n",
    "        p1 = r'\\(\\langle \\boldsymbol{{P_1}} \\rangle\\)'\n",
    "        p2 = r'\\(\\langle \\boldsymbol{{P_2}} \\rangle\\)'\n",
    "        p4 = r'\\(\\langle \\boldsymbol{{P_4}} \\rangle\\)'\n",
    "        p5 = r'\\(\\langle \\boldsymbol{{P_5}} \\rangle\\)'\n",
    "        brkstar = r'\\(\\langle \\boldsymbol{{\\mathcal{B}(B^0\\rightarrow K^{*0}\\mu\\mu)}} \\rangle\\)'\n",
    "        brk = r'\\(\\langle \\boldsymbol{{\\mathcal{B}(B^0\\rightarrow K^{0}\\mu\\mu)}} \\rangle\\)'\n",
    "        rk = r'\\(\\langle \\boldsymbol{{R_K}} \\rangle\\)'\n",
    "        rkstar = r'\\(\\langle \\boldsymbol{{R_K^*}} \\rangle\\)'\n",
    "        names = [p1,p2,p4,p5,brkstar, brk,rk,rkstar]\n",
    "        \n",
    "        #fig.delaxes(axs[1,1])\n",
    "        start = 0\n",
    "        #predictions = gen_imgs[0]\n",
    "        axs = np.array(axs)\n",
    "        axs = axs.reshape(-1)\n",
    "        print(predictions)\n",
    "        #print(true_sample_with_label)\n",
    "        print(X_experimental)\n",
    "        print(modelErrors)\n",
    "        print(expErrors)\n",
    "        for ax in axs:        \n",
    "\n",
    "            end = start + numBins[cnt]                  \n",
    "\n",
    "            partialPrediction = predictions[start:end]\n",
    "            partialSample = true_sample_with_label[start:end]\n",
    "            partialModelErrors = modelErrors[start:end]\n",
    "            partialExpErrors = expErrors[start:end]\n",
    "            partialModelErrorsMinus = modelErrorsMinus[start:end]\n",
    "            partialExpErrorsMinus = expErrorsMinus[start:end]\n",
    "            partialChi2 = computeModelFit(partialPrediction,X_experimental[start:end],partialModelErrors,partialExpErrors)\n",
    "            \n",
    "            ax.set_title(r'\\(\\chi^2 = {} \\)'.format(round(partialChi2,2)),size=14)\n",
    "            ax.set_xlim(0, bins[end-1]+binWidths[end-1])\n",
    "            ax.set_xlabel(r'\\(\\boldsymbol{q^2(GeV^2)}\\)', fontsize=14)\n",
    "            ax.set_ylabel(names[cnt], fontsize=14)\n",
    "            maxypred = (partialPrediction + adjustedModelErrors[start:end]).max()\n",
    "            maxysample = (partialSample + adjustedModelErrors[start:end]).max()\n",
    "\n",
    "            minypred = (partialPrediction - adjustedModelErrors[start:end]).min()\n",
    "            minysample = (partialSample - adjustedModelErrors[start:end]).min()\n",
    "\n",
    "            maxy = max(maxysample,maxypred)\n",
    "            miny = min(minypred,minysample)\n",
    "\n",
    "            ax.set_ylim(miny, maxy)                    \n",
    "\n",
    "            handles = []\n",
    "            color = 'orange'\n",
    "            handles.append(Polygon([(0,0),(10,0),(0,-10)],color=color,\n",
    "                           label='GAN generated'))\n",
    "            plotObservable(ax, partialPrediction-partialModelErrorsMinus, bins[start:end], binWidths[start:end], partialModelErrors, color,'black')   \n",
    "            color = 'blue'\n",
    "            handles.append(Polygon([(0,0),(10,0),(0,-10)],color=color,\n",
    "                           label='Training sample'))\n",
    "\n",
    "            plotObservable(ax, partialSample-partialModelErrorsMinus, bins[start:end], binWidths[start:end], partialModelErrors, color,'black')   \n",
    "\n",
    "            #ax.legend(handles=handles)\n",
    "            start = end\n",
    "            cnt = cnt + 1\n",
    "        \n",
    "        \n",
    "        \n",
    "        print('prediction:', predictions.shape)\n",
    "        print('X_experimental:', X_experimental.shape)\n",
    "        \n",
    "        \n",
    "        \n",
    "        plt.savefig('adversarial_images/image_at_epoch_{:04d}.svg'.format(epoch))\n",
    "        \n",
    "\n",
    "\n",
    "if __name__ == '__main__':\n",
    "    cgan = CGAN()\n",
    "    cgan.train(epochs=100000, batch_size=32, sample_interval=1000)"
   ]
  },
  {
   "cell_type": "code",
   "execution_count": null,
   "metadata": {},
   "outputs": [],
   "source": [
    "def plotErrors():\n",
    "    pickle_in = open(\"chi2.pickle\", \"rb\")\n",
    "    chi2 = pickle.load(pickle_in)\n",
    "    b = np.array(chi2)\n",
    "    print(b)\n",
    "    fig, ax = plt.subplots()                \n",
    "    ax.set(ylabel=r'\\(\\chi^2 \\)')\n",
    "    ax.plot(chi2)         \n",
    "    ax.grid()\n",
    "\n",
    "    fig2, ax2 = plt.subplots()                \n",
    "    ax2.set(ylabel=r'\\(\\chi^2 \\)')\n",
    "    ax2.set_ylim([25,55])\n",
    "    ax2.plot(b[np.where(b<60)])         \n",
    "    ax2.grid()\n",
    "\n",
    "    fig.savefig(\"chi2.png\")\n",
    "    fig2.savefig(\"chi2Zoom.png\")\n",
    "    plt.show()\n",
    "plotErrors()"
   ]
  },
  {
   "cell_type": "code",
   "execution_count": 93,
   "metadata": {},
   "outputs": [
    {
     "name": "stdout",
     "output_type": "stream",
     "text": [
      "WARNING:tensorflow:No training configuration found in the save file, so the model was *not* compiled. Compile it manually.\n",
      "0.7479367610934644\n",
      "3.219874540204998\n",
      "2.3995743384453556\n",
      "2.6343636255897738\n",
      "0.25782974072994735\n",
      "5.078398849290455\n",
      "6.150464915450334\n",
      "7.706019870211616\n"
     ]
    },
    {
     "data": {
      "image/png": "[encoded data removed]",
      "text/plain": [
       "<Figure size 1152x720 with 1 Axes>"
      ]
     },
     "metadata": {
      "needs_background": "light"
     },
     "output_type": "display_data"
    }
   ],
   "source": [
    "from tensorflow import keras\n",
    "pickle_in = open(\"y_noChi.pickle\", \"rb\")\n",
    "y_train = pickle.load(pickle_in)\n",
    "y_train_unique = np.unique(y_train, axis=0)\n",
    "pickle_in = open(\"errors.pickle\", \"rb\")\n",
    "errors = pickle.load(pickle_in)\n",
    "pickle_in = open(\"X_experimental.pickle\", \"rb\")\n",
    "modelErrors = errors[:,0]  \n",
    "expErrors = errors[:,1]  \n",
    "X_experimental = pickle.load(pickle_in)\n",
    "model = keras.models.load_model('generator')\n",
    "chi2=[]\n",
    "plt.rcParams.update({'font.size': 22})\n",
    "x = range(0,8,1)\n",
    "for i in x:\n",
    "    labels = [i]\n",
    "    noise = np.random.normal(0, 1, (1, 100))\n",
    "    gen_imgs = model.predict([noise, np.array(labels)])\n",
    "    predictions = gen_imgs[0]    \n",
    "    v = computeModelFit(predictions,X_experimental,modelErrors,expErrors)\n",
    "    chi2.append(int(round(v)))\n",
    "    print(v)\n",
    "    \n",
    "fig, ax = plt.subplots()\n",
    "plt.xticks(x)\n",
    "\n",
    "ax.plot(x, chi2)\n",
    "ax.plot(y_train_unique,y_train_unique, 'go')\n",
    "\n",
    "textstr = '\\n'.join((\n",
    "    r'GAN generating samples with',\n",
    "    r'wrong \\(\\chi^2 \\) in this region of',\n",
    "    r' labels not present in training set'))\n",
    "\n",
    "props = dict(boxstyle='round', facecolor='wheat', alpha=0.5)\n",
    "# place a text box in upper left in axes coords\n",
    "ax.text(0.0125, 0.95, textstr, transform=ax.transAxes, fontsize=18,\n",
    "        verticalalignment='top', bbox=props)\n",
    "ax.set(xlabel=r'GAN Conditional label (\\(\\chi^2 \\))', ylabel=r'\\(\\chi^2 \\) of generated samples',\n",
    "       title=r'\\(\\chi^2 \\) of generated samples versus \\(\\chi^2 \\) conditional label')\n",
    "\n",
    "ttl = ax.title\n",
    "ttl.set_position([.5, 1.05])\n",
    "ax.axvline(x=8,linewidth=1, color='r', linestyle='dashed')\n",
    "ax.grid()\n",
    "\n",
    "fig.savefig(\"test.svg\")\n",
    "plt.show() "
   ]
  },
  {
   "cell_type": "code",
   "execution_count": 92,
   "metadata": {},
   "outputs": [
    {
     "name": "stdout",
     "output_type": "stream",
     "text": [
      "WARNING:tensorflow:No training configuration found in the save file, so the model was *not* compiled. Compile it manually.\n",
      "[0. 1. 2. 3. 4. 5. 6. 7. 8.]\n"
     ]
    },
    {
     "data": {
      "image/png": "[encoded data removed]",
      "text/plain": [
       "<Figure size 144x144 with 1 Axes>"
      ]
     },
     "metadata": {
      "needs_background": "light"
     },
     "output_type": "display_data"
    },
    {
     "name": "stdout",
     "output_type": "stream",
     "text": [
      "[0. 1. 2. 3. 4. 5. 6. 7. 8.]\n"
     ]
    },
    {
     "data": {
      "image/png": "[encoded data removed]",
      "text/plain": [
       "<Figure size 144x144 with 1 Axes>"
      ]
     },
     "metadata": {
      "needs_background": "light"
     },
     "output_type": "display_data"
    },
    {
     "name": "stdout",
     "output_type": "stream",
     "text": [
      "[0. 1. 2. 3. 4. 5. 6. 7. 8.]\n"
     ]
    },
    {
     "data": {
      "image/png": "[encoded data removed]",
      "text/plain": [
       "<Figure size 144x144 with 1 Axes>"
      ]
     },
     "metadata": {
      "needs_background": "light"
     },
     "output_type": "display_data"
    },
    {
     "name": "stdout",
     "output_type": "stream",
     "text": [
      "[0. 1. 2. 3. 4. 5. 6. 7. 8.]\n"
     ]
    },
    {
     "data": {
      "image/png": "[encoded data removed]",
      "text/plain": [
       "<Figure size 144x144 with 1 Axes>"
      ]
     },
     "metadata": {
      "needs_background": "light"
     },
     "output_type": "display_data"
    },
    {
     "name": "stdout",
     "output_type": "stream",
     "text": [
      "[0. 1. 2. 3. 4. 5. 6. 7. 8.]\n"
     ]
    },
    {
     "data": {
      "image/png": "[encoded data removed]",
      "text/plain": [
       "<Figure size 144x144 with 1 Axes>"
      ]
     },
     "metadata": {
      "needs_background": "light"
     },
     "output_type": "display_data"
    },
    {
     "name": "stdout",
     "output_type": "stream",
     "text": [
      "[0. 1. 2. 3. 4. 5. 6. 7. 8.]\n"
     ]
    },
    {
     "data": {
      "image/png": "[encoded data removed]",
      "text/plain": [
       "<Figure size 144x144 with 1 Axes>"
      ]
     },
     "metadata": {
      "needs_background": "light"
     },
     "output_type": "display_data"
    },
    {
     "name": "stdout",
     "output_type": "stream",
     "text": [
      "[0. 1. 2. 3. 4. 5. 6. 7. 8.]\n"
     ]
    },
    {
     "data": {
      "image/png": "[encoded data removed]",
      "text/plain": [
       "<Figure size 144x144 with 1 Axes>"
      ]
     },
     "metadata": {
      "needs_background": "light"
     },
     "output_type": "display_data"
    },
    {
     "name": "stdout",
     "output_type": "stream",
     "text": [
      "[0. 1. 2. 3. 4. 5. 6. 7. 8.]\n"
     ]
    },
    {
     "data": {
      "image/png": "[encoded data removed]",
      "text/plain": [
       "<Figure size 144x144 with 1 Axes>"
      ]
     },
     "metadata": {
      "needs_background": "light"
     },
     "output_type": "display_data"
    }
   ],
   "source": [
    "from tensorflow import keras\n",
    "pickle_in = open(\"y_noChi.pickle\", \"rb\")\n",
    "y_train = pickle.load(pickle_in)\n",
    "y_train_unique = np.unique(y_train, axis=0)\n",
    "pickle_in = open(\"errors.pickle\", \"rb\")\n",
    "errors = pickle.load(pickle_in)\n",
    "pickle_in = open(\"X_experimental.pickle\", \"rb\")\n",
    "modelErrors = errors[:,0]  \n",
    "expErrors = errors[:,1]  \n",
    "X_experimental = pickle.load(pickle_in)\n",
    "model = keras.models.load_model('generator')\n",
    "\n",
    "plt.rcParams.update({'font.size': 22})\n",
    "x = range(0,8,1)\n",
    "\n",
    "for i in x:\n",
    "    chi2=[]\n",
    "    fig, ax = plt.subplots()\n",
    "    fig.set_size_inches(2, 2, forward=True)\n",
    "    for j in range(200):\n",
    "        labels = [i]\n",
    "        noise = np.random.normal(0, 1, (1, 100))\n",
    "        gen_imgs = model.predict([noise, np.array(labels)])\n",
    "        predictions = gen_imgs[0]    \n",
    "        v = computeModelFit(predictions,X_experimental,modelErrors,expErrors)\n",
    "        chi2.append(int(round(v)))\n",
    "    bin_edges = np.linspace(start=0 , stop=8, num=9, endpoint=True)\n",
    "    print(bin_edges)\n",
    "    plt.hist(chi2, bin_edges) \n",
    "    plt.xticks(bin_edges)\n",
    "    plt.show()\n",
    "\n",
    "\n",
    "\n",
    "\n"
   ]
  },
  {
   "cell_type": "code",
   "execution_count": 33,
   "metadata": {},
   "outputs": [
    {
     "data": {
      "text/plain": [
       "[[1, 2, 3], [4, 5, 6]]"
      ]
     },
     "execution_count": 33,
     "metadata": {},
     "output_type": "execute_result"
    }
   ],
   "source": [
    "y_train=np.array([[0,30,40],[1,2,3]])\n",
    "y_train[:,1]\n",
    "a =[[1,2,3],[4,5,6]]\n",
    "a[:]"
   ]
  },
  {
   "cell_type": "code",
   "execution_count": null,
   "metadata": {},
   "outputs": [],
   "source": [
    "from matplotlib import pyplot\n",
    "def plot_history(d1_hist,  g_hist):\n",
    "    # plot loss\n",
    "    pyplot.subplot(2, 1, 1)\n",
    "    pyplot.plot(d1_hist, label='d-real')\n",
    "\n",
    "    pyplot.plot(g_hist, label='gen')\n",
    "    pyplot.legend()\n",
    "    plt.savefig('error_images/error.png')\n",
    "plot_history(d_hist, g_hist)\n",
    "print(d_hist)"
   ]
  },
  {
   "cell_type": "code",
   "execution_count": null,
   "metadata": {},
   "outputs": [],
   "source": [
    "import numpy as np\n",
    "\n",
    "np.arange(10,20).reshape(5,-1)"
   ]
  },
  {
   "cell_type": "code",
   "execution_count": 3,
   "metadata": {},
   "outputs": [],
   "source": [
    "from matplotlib.collections import PatchCollection\n",
    "from matplotlib.patches import Rectangle\n",
    "import matplotlib.colors as Colors\n",
    "def plotObservable(ax, binValues, bins, binWidths, binValuesErrors, color,kcolor):   \n",
    "    # Set height minimum\n",
    "    binValuesErrors = [0.01 if a_ < 0.01 else a_ for a_ in binValuesErrors]\n",
    "    patches = [Rectangle((x,y), w, h) for x,y,w,h in zip(bins,binValues, binWidths, binValuesErrors)]\n",
    "       \n",
    "    p = PatchCollection(patches, facecolor=Colors.to_rgba(color, 1))    \n",
    "    ax.add_collection(p)\n",
    "    \n",
    "def computeModelFit(bins,binsExp,errorModel, errorExp):\n",
    "    \n",
    "    binFits = [computeChiSquare(muModel, muExp, errorModel, errorExp) for muModel, muExp, errorModel, errorExp in zip(bins,binsExp,errorModel,errorExp)]      \n",
    "    s = sum(binFits)\n",
    "    return s\n",
    "        \n",
    "def computeChiSquare(muModel, muExp, sigmaModel, sigmaExp):   \n",
    "    return (muExp - muModel)**2/(sigmaModel**2 + sigmaExp**2)"
   ]
  },
  {
   "cell_type": "code",
   "execution_count": null,
   "metadata": {
    "scrolled": false
   },
   "outputs": [],
   "source": [
    "import numpy as np\n",
    "a = np.array([1,2,3])\n",
    "print(a)\n",
    "a = a.reshape(3,1)\n",
    "print(a)\n",
    "a = a.reshape(3,-1)\n",
    "print(a)\n",
    "img_shape = (39,)\n",
    "np.prod(img_shape)\n",
    "print(a[:-1])"
   ]
  },
  {
   "cell_type": "code",
   "execution_count": null,
   "metadata": {},
   "outputs": [],
   "source": [
    "np.round(np.random.uniform(-0.01, -0.02, 4),2)"
   ]
  },
  {
   "cell_type": "code",
   "execution_count": 84,
   "metadata": {},
   "outputs": [
    {
     "name": "stdout",
     "output_type": "stream",
     "text": [
      "(0, 2)\n",
      "(2,)\n"
     ]
    }
   ],
   "source": [
    "import numpy as np\n",
    "a = np.empty([0,2])\n",
    "print(a.shape)\n",
    "b = np.array([[12,13]])\n",
    "c = np.append(a,b)\n",
    "print(c.shape)"
   ]
  },
  {
   "cell_type": "code",
   "execution_count": 155,
   "metadata": {},
   "outputs": [
    {
     "data": {
      "text/plain": [
       "(2, 2)"
      ]
     },
     "execution_count": 155,
     "metadata": {},
     "output_type": "execute_result"
    }
   ],
   "source": [
    "a=np.array([1,2])\n",
    "np.append(a,[34])\n",
    "a\n",
    "b=[[1,2]]\n",
    "b.append([34,67])\n",
    "b = np.array(b)\n",
    "b.shape\n"
   ]
  },
  {
   "cell_type": "code",
   "execution_count": null,
   "metadata": {},
   "outputs": [],
   "source": []
  }
 ],
 "metadata": {
  "kernelspec": {
   "display_name": "Python 3",
   "language": "python",
   "name": "python3"
  },
  "language_info": {
   "codemirror_mode": {
    "name": "ipython",
    "version": 3
   },
   "file_extension": ".py",
   "mimetype": "text/x-python",
   "name": "python",
   "nbconvert_exporter": "python",
   "pygments_lexer": "ipython3",
   "version": "3.7.6"
  }
 },
 "nbformat": 4,
 "nbformat_minor": 4
}
