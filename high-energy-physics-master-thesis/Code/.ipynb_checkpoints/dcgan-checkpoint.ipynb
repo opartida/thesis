{
 "cells": [
  {
   "cell_type": "markdown",
   "metadata": {
    "colab_type": "text",
    "id": "_jQ1tEQCxwRx"
   },
   "source": [
    "##### Copyright 2019 The TensorFlow Authors."
   ]
  },
  {
   "cell_type": "code",
   "execution_count": 1,
   "metadata": {
    "cellView": "form",
    "colab": {},
    "colab_type": "code",
    "id": "V_sgB_5dx1f1"
   },
   "outputs": [],
   "source": [
    "#@title Licensed under the Apache License, Version 2.0 (the \"License\");\n",
    "# you may not use this file except in compliance with the License.\n",
    "# You may obtain a copy of the License at\n",
    "#\n",
    "# https://www.apache.org/licenses/LICENSE-2.0\n",
    "#\n",
    "# Unless required by applicable law or agreed to in writing, software\n",
    "# distributed under the License is distributed on an \"AS IS\" BASIS,\n",
    "# WITHOUT WARRANTIES OR CONDITIONS OF ANY KIND, either express or implied.\n",
    "# See the License for the specific language governing permissions and\n",
    "# limitations under the License."
   ]
  },
  {
   "cell_type": "markdown",
   "metadata": {
    "colab_type": "text",
    "id": "rF2x3qooyBTI"
   },
   "source": [
    "# Deep Convolutional Generative Adversarial Network"
   ]
  },
  {
   "cell_type": "markdown",
   "metadata": {
    "colab_type": "text",
    "id": "0TD5ZrvEMbhZ"
   },
   "source": [
    "<table class=\"tfo-notebook-buttons\" align=\"left\">\n",
    "  <td>\n",
    "    <a target=\"_blank\" href=\"https://www.tensorflow.org/tutorials/generative/dcgan\">\n",
    "    <img src=\"https://www.tensorflow.org/images/tf_logo_32px.png\" />\n",
    "    View on TensorFlow.org</a>\n",
    "  </td>\n",
    "  <td>\n",
    "    <a target=\"_blank\" href=\"https://colab.research.google.com/github/tensorflow/docs/blob/master/site/en/tutorials/generative/dcgan.ipynb\">\n",
    "    <img src=\"https://www.tensorflow.org/images/colab_logo_32px.png\" />\n",
    "    Run in Google Colab</a>\n",
    "  </td>\n",
    "  <td>\n",
    "    <a target=\"_blank\" href=\"https://github.com/tensorflow/docs/blob/master/site/en/tutorials/generative/dcgan.ipynb\">\n",
    "    <img src=\"https://www.tensorflow.org/images/GitHub-Mark-32px.png\" />\n",
    "    View source on GitHub</a>\n",
    "  </td>\n",
    "  <td>\n",
    "    <a href=\"https://storage.googleapis.com/tensorflow_docs/docs/site/en/tutorials/generative/dcgan.ipynb\"><img src=\"https://www.tensorflow.org/images/download_logo_32px.png\" />Download notebook</a>\n",
    "  </td>\n",
    "</table>"
   ]
  },
  {
   "cell_type": "markdown",
   "metadata": {
    "colab_type": "text",
    "id": "ITZuApL56Mny"
   },
   "source": [
    "This tutorial demonstrates how to generate images of handwritten digits using a [Deep Convolutional Generative Adversarial Network](https://arxiv.org/pdf/1511.06434.pdf) (DCGAN). The code is written using the [Keras Sequential API](https://www.tensorflow.org/guide/keras) with a `tf.GradientTape` training loop."
   ]
  },
  {
   "cell_type": "markdown",
   "metadata": {
    "colab_type": "text",
    "id": "2MbKJY38Puy9"
   },
   "source": [
    "## What are GANs?\n",
    "[Generative Adversarial Networks](https://arxiv.org/abs/1406.2661) (GANs) are one of the most interesting ideas in computer science today. Two models are trained simultaneously by an adversarial process. A *generator* (\"the artist\") learns to create images that look real, while a *discriminator* (\"the art critic\") learns to tell real images apart from fakes.\n",
    "\n",
    "![A diagram of a generator and discriminator](./images/gan1.png)\n",
    "\n",
    "During training, the *generator* progressively becomes better at creating images that look real, while the *discriminator* becomes better at telling them apart. The process reaches equilibrium when the *discriminator* can no longer distinguish real images from fakes.\n",
    "\n",
    "![A second diagram of a generator and discriminator](./images/gan2.png)\n",
    "\n",
    "This notebook demonstrates this process on the MNIST dataset. The following animation shows a series of images produced by the *generator* as it was trained for 50 epochs. The images begin as random noise, and increasingly resemble hand written digits over time.\n",
    "\n",
    "![sample output](https://tensorflow.org/images/gan/dcgan.gif)\n",
    "\n",
    "To learn more about GANs, we recommend MIT's [Intro to Deep Learning](http://introtodeeplearning.com/) course."
   ]
  },
  {
   "cell_type": "markdown",
   "metadata": {
    "colab_type": "text",
    "id": "e1_Y75QXJS6h"
   },
   "source": [
    "### Import TensorFlow and other libraries"
   ]
  },
  {
   "cell_type": "code",
   "execution_count": 1,
   "metadata": {
    "colab": {},
    "colab_type": "code",
    "id": "WZKbyU2-AiY-"
   },
   "outputs": [],
   "source": [
    "import tensorflow as tf"
   ]
  },
  {
   "cell_type": "code",
   "execution_count": 2,
   "metadata": {
    "colab": {},
    "colab_type": "code",
    "id": "wx-zNbLqB4K8"
   },
   "outputs": [
    {
     "data": {
      "text/plain": [
       "'2.2.0'"
      ]
     },
     "execution_count": 2,
     "metadata": {},
     "output_type": "execute_result"
    }
   ],
   "source": [
    "tf.__version__"
   ]
  },
  {
   "cell_type": "code",
   "execution_count": 3,
   "metadata": {
    "colab": {},
    "colab_type": "code",
    "id": "YzTlj4YdCip_"
   },
   "outputs": [],
   "source": [
    "# To generate GIFs\n",
    "!pip install -q imageio"
   ]
  },
  {
   "cell_type": "code",
   "execution_count": 3,
   "metadata": {
    "colab": {},
    "colab_type": "code",
    "id": "YfIk2es3hJEd"
   },
   "outputs": [],
   "source": [
    "import glob\n",
    "import imageio\n",
    "import matplotlib.pyplot as plt\n",
    "import numpy as np\n",
    "import os\n",
    "import PIL\n",
    "from tensorflow.keras import layers\n",
    "import time\n",
    "\n",
    "from IPython import display"
   ]
  },
  {
   "cell_type": "markdown",
   "metadata": {
    "colab_type": "text",
    "id": "iYn4MdZnKCey"
   },
   "source": [
    "### Load and prepare the dataset\n",
    "\n",
    "You will use the MNIST dataset to train the generator and the discriminator. The generator will generate handwritten digits resembling the MNIST data."
   ]
  },
  {
   "cell_type": "code",
   "execution_count": 331,
   "metadata": {
    "colab": {},
    "colab_type": "code",
    "id": "a4fYMGxGhrna"
   },
   "outputs": [
    {
     "name": "stdout",
     "output_type": "stream",
     "text": [
      "[2.00490136 2.02175176 2.00865864 2.04315856 2.03006554 2.0170334\n",
      " 2.00406214 2.06055904 2.0474661  2.03443404 2.02146286 2.00855256\n",
      " 2.078204   2.06511114 2.05207916 2.03910806 2.02619784 2.0133485\n",
      " 2.00056004 2.09609344 2.08300066 2.06996876 2.05699774 2.0440876\n",
      " 2.03123834 2.01844996 2.00572246 2.11422736 2.10113466 2.08810284\n",
      " 2.0751319  2.06222184 2.04937266 2.03658436 2.02385694 2.0111904\n",
      " 2.13260576 2.11951314 2.1064814  2.09351054 2.08060056 2.06775146\n",
      " 2.05496324 2.0422359  2.02956944 2.01696386 2.00441916 2.15122864\n",
      " 2.1381361  2.12510444 2.11213366 2.09922376 2.08637474 2.0735866\n",
      " 2.06085934 2.04819296 2.03558746 2.02304284 2.0105591  2.170096\n",
      " 2.15700354 2.14397196 2.13100126 2.11809144 2.1052425  2.09245444\n",
      " 2.07972726 2.06706096 2.05445554 2.041911   2.02942734 2.01700456\n",
      " 2.18920784 2.17611546 2.16308396 2.15011334 2.1372036  2.12435474\n",
      " 2.11156676 2.09883966 2.08617344 2.0735681  2.06102364 2.04854006\n",
      " 2.03611736 2.01759746 2.00532696 2.20856416 2.19547186 2.18244044\n",
      " 2.1694699  2.15656024 2.14371146 2.13092356 2.11819654 2.1055304\n",
      " 2.09292514 2.08038076 2.06789726 2.05547464 2.03695486 2.02468444\n",
      " 2.0124749  2.00032624 2.22816496 2.21507274 2.2020414  2.18907094\n",
      " 2.17616136 2.16331266 2.15052484 2.1377979  2.12513184 2.11252666\n",
      " 2.09998236 2.08749894 2.0750764  2.05655674 2.0442864  2.03207694\n",
      " 2.01992836 2.00784066 2.24801024 2.2349181  2.22188684 2.20891646\n",
      " 2.19600696 2.18315834 2.1703706  2.15764374 2.14497776 2.13237266\n",
      " 2.11982844 2.1073451  2.09492264 2.0764031  2.06413284 2.05192346\n",
      " 2.03977496 2.02768734 2.0156606  2.00369474 2.27316064 2.2600686\n",
      " 2.24703744 2.23406716 2.22115776 2.20830924 2.1955216  2.18279484\n",
      " 2.17012896 2.15752396 2.14497984 2.1324966  2.12007424 2.10155485\n",
      " 2.08928469 2.07707541 2.06492701 2.05283949 2.04081285 2.02884709\n",
      " 2.01694221 2.00509821 2.293556   2.28046404 2.26743296 2.25446276\n",
      " 2.24155344 2.228705   2.21591744 2.20319076 2.19052496 2.17792004\n",
      " 2.165376   2.15289284 2.14047056 2.12195129 2.10968121 2.09747201\n",
      " 2.08532369 2.07323625 2.06120969 2.04924401 2.03733921 2.02549529\n",
      " 2.01371225 2.00199009 2.31419584 2.30110396 2.28807296 2.27510284\n",
      " 2.2621936  2.24934524 2.23655776 2.22383116 2.21116544 2.1985606\n",
      " 2.18601664 2.17353356 2.16111136 2.14259221 2.13032221 2.11811309\n",
      " 2.10596485 2.09387749 2.08185101 2.06988541 2.05798069 2.04613685\n",
      " 2.03435389 2.02263181 2.01097061 2.33508016 2.32198836 2.30895744\n",
      " 2.2959874  2.28307824 2.27022996 2.25744256 2.24471604 2.2320504\n",
      " 2.21944564 2.20690176 2.19441876 2.18199664 2.16347761 2.15120769\n",
      " 2.13899865 2.12685049 2.11476321 2.10273681 2.09077129 2.07886665\n",
      " 2.06702289 2.05524001 2.04351801 2.03185689 2.02025665 2.00871729\n",
      " 2.35620896 2.34311724 2.3300864  2.31711644 2.30420736 2.29135916\n",
      " 2.27857184 2.2658454  2.25317984 2.24057516 2.22803136 2.21554844\n",
      " 2.2031264  2.18460749 2.17233765 2.16012869 2.14798061 2.13589341\n",
      " 2.12386709 2.11190165 2.09999709 2.08815341 2.07637061 2.06464869\n",
      " 2.05298765 2.04138749 2.02984821 2.01836981 2.00695229 2.37758224\n",
      " 2.3644906  2.35145984 2.33848996 2.32558096 2.31273284 2.2999456\n",
      " 2.28721924 2.27455376 2.26194916 2.24940544 2.2369226  2.22450064\n",
      " 2.20598185 2.19371209 2.18150321 2.16935521 2.15726809 2.14524185\n",
      " 2.13327649 2.12137201 2.10952841 2.09774569 2.08602385 2.07436289\n",
      " 2.06276281 2.05122361 2.03974529 2.02832785 2.01697129 2.00567561\n",
      " 2.3992     2.38610844 2.37307776 2.36010796 2.34719904 2.334351\n",
      " 2.32156384 2.30883756 2.29617216 2.28356764 2.271024   2.25854124\n",
      " 2.24611936 2.22760069 2.21533101 2.20312221 2.19097429 2.17888725\n",
      " 2.16686109 2.15489581 2.14299141 2.13114789 2.11936525 2.10764349\n",
      " 2.09598261 2.08438261 2.07284349 2.06136525 2.04994789 2.03859141\n",
      " 2.02729581 2.01606109 2.00488725]\n"
     ]
    }
   ],
   "source": [
    "#(train_images, train_labels), (_, _) = tf.keras.datasets.mnist.load_data()\n",
    "import pickle\n",
    "pickle_in = open(\"y.pickle\", \"rb\")\n",
    "y = pickle.load(pickle_in)\n",
    "\n",
    "pickle_in = open(\"X.pickle\", \"rb\")\n",
    "train_images = pickle.load(pickle_in)\n",
    "print(train_images[train_images>2])"
   ]
  },
  {
   "cell_type": "code",
   "execution_count": null,
   "metadata": {
    "colab": {},
    "colab_type": "code",
    "id": "NFC2ghIdiZYE"
   },
   "outputs": [],
   "source": [
    "#train_images = train_images.reshape(train_images.shape[0], 28, 28, 1).astype('float32')\n",
    "#train_images = (train_images - 127.5) / 127.5 # Normalize the images to [-1, 1]"
   ]
  },
  {
   "cell_type": "code",
   "execution_count": 102,
   "metadata": {
    "colab": {},
    "colab_type": "code",
    "id": "S4PIDhoDLbsZ"
   },
   "outputs": [],
   "source": [
    "BUFFER_SIZE = 60000\n",
    "BATCH_SIZE = 100"
   ]
  },
  {
   "cell_type": "code",
   "execution_count": 280,
   "metadata": {
    "colab": {},
    "colab_type": "code",
    "id": "-yKCCQOoJ7cn"
   },
   "outputs": [
    {
     "name": "stdout",
     "output_type": "stream",
     "text": [
      "(2500, 37)\n"
     ]
    }
   ],
   "source": [
    "# Batch and shuffle the data\n",
    "print(train_images.shape)\n",
    "train_dataset = tf.data.Dataset.from_tensor_slices(train_images).shuffle(BUFFER_SIZE).batch(BATCH_SIZE)"
   ]
  },
  {
   "cell_type": "markdown",
   "metadata": {
    "colab_type": "text",
    "id": "THY-sZMiQ4UV"
   },
   "source": [
    "## Create the models\n",
    "\n",
    "Both the generator and discriminator are defined using the [Keras Sequential API](https://www.tensorflow.org/guide/keras#sequential_model)."
   ]
  },
  {
   "cell_type": "markdown",
   "metadata": {
    "colab_type": "text",
    "id": "-tEyxE-GMC48"
   },
   "source": [
    "### The Generator\n",
    "\n",
    "The generator uses `tf.keras.layers.Conv2DTranspose` (upsampling) layers to produce an image from a seed (random noise). Start with a `Dense` layer that takes this seed as input, then upsample several times until you reach the desired image size of 28x28x1. Notice the `tf.keras.layers.LeakyReLU` activation for each layer, except the output layer which uses tanh."
   ]
  },
  {
   "cell_type": "code",
   "execution_count": 315,
   "metadata": {
    "colab": {},
    "colab_type": "code",
    "id": "6bpTcDqoLWjY"
   },
   "outputs": [],
   "source": [
    "def make_generator_model():\n",
    "    model = tf.keras.Sequential()\n",
    "    model.add(layers.Dense(37,input_shape=(3,), activation='relu' ))    \n",
    "    model.summary()\n",
    "    return model"
   ]
  },
  {
   "cell_type": "markdown",
   "metadata": {
    "colab_type": "text",
    "id": "GyWgG09LCSJl"
   },
   "source": [
    "Use the (as yet untrained) generator to create an image."
   ]
  },
  {
   "cell_type": "code",
   "execution_count": 342,
   "metadata": {
    "colab": {},
    "colab_type": "code",
    "id": "gl7jcC7TdPTG"
   },
   "outputs": [
    {
     "name": "stdout",
     "output_type": "stream",
     "text": [
      "Model: \"sequential_58\"\n",
      "_________________________________________________________________\n",
      "Layer (type)                 Output Shape              Param #   \n",
      "=================================================================\n",
      "dense_113 (Dense)            (None, 256)               1024      \n",
      "_________________________________________________________________\n",
      "dense_114 (Dense)            (None, 128)               32896     \n",
      "_________________________________________________________________\n",
      "dense_115 (Dense)            (None, 64)                8256      \n",
      "_________________________________________________________________\n",
      "dense_116 (Dense)            (None, 32)                2080      \n",
      "_________________________________________________________________\n",
      "dense_117 (Dense)            (None, 37)                1221      \n",
      "=================================================================\n",
      "Total params: 45,477\n",
      "Trainable params: 45,477\n",
      "Non-trainable params: 0\n",
      "_________________________________________________________________\n",
      "tf.Tensor(\n",
      "[[-0.04155041 -0.02214431  0.00193488 -0.02556412 -0.02989684  0.01004582\n",
      "  -0.01179958  0.02204184  0.03678054 -0.00220209  0.02003961 -0.00662286\n",
      "   0.02252205 -0.03100033 -0.0007157  -0.01101606 -0.00635663 -0.01115967\n",
      "  -0.03477476 -0.02728253  0.02258195  0.02165773  0.00192507 -0.01696921\n",
      "   0.0138857   0.02125021  0.00461899  0.00016029 -0.00772418 -0.01580643\n",
      "   0.01477328  0.00361798 -0.03144748 -0.00277435 -0.02416981 -0.04511115\n",
      "  -0.01438285]], shape=(1, 37), dtype=float32)\n"
     ]
    }
   ],
   "source": [
    "generator = make_generator_model()\n",
    "noise = tf.random.normal([1, 3])\n",
    "generated_image = generator(noise, training=False)\n",
    "##\n",
    "print(generated_image)"
   ]
  },
  {
   "cell_type": "markdown",
   "metadata": {
    "colab_type": "text",
    "id": "D0IKnaCtg6WE"
   },
   "source": [
    "### The Discriminator\n",
    "\n",
    "The discriminator is a CNN-based image classifier."
   ]
  },
  {
   "cell_type": "code",
   "execution_count": 317,
   "metadata": {
    "colab": {},
    "colab_type": "code",
    "id": "dw2tPLmk2pEP"
   },
   "outputs": [],
   "source": [
    "def make_discriminator_model():\n",
    "    model = tf.keras.Sequential()\n",
    "    model.add(layers.Dense(2, input_shape=(37,),activation='relu'))\n",
    "    #model.add(layers.Dense(1))\n",
    "\n",
    "\n",
    "    #model = tf.keras.Sequential()\n",
    "    #model.add(layers.Conv2D(64, (5, 5), strides=(2, 2), padding='same',\n",
    "    #                                 input_shape=[28, 28, 1]))\n",
    "    #model.add(layers.LeakyReLU())\n",
    "    #model.add(layers.Dropout(0.3))\n",
    "#\n",
    "    #model.add(layers.Conv2D(128, (5, 5), strides=(2, 2), padding='same'))\n",
    "    #model.add(layers.LeakyReLU())\n",
    "    #model.add(layers.Dropout(0.3))\n",
    "#\n",
    "    #model.add(layers.Flatten())\n",
    "    #model.add(layers.Dense(1))\n",
    "\n",
    "    return model"
   ]
  },
  {
   "cell_type": "markdown",
   "metadata": {
    "colab_type": "text",
    "id": "QhPneagzCaQv"
   },
   "source": [
    "Use the (as yet untrained) discriminator to classify the generated images as real or fake. The model will be trained to output positive values for real images, and negative values for fake images."
   ]
  },
  {
   "cell_type": "code",
   "execution_count": 343,
   "metadata": {
    "colab": {},
    "colab_type": "code",
    "id": "gDkA05NE6QMs"
   },
   "outputs": [
    {
     "name": "stdout",
     "output_type": "stream",
     "text": [
      "tf.Tensor([[0.02024962]], shape=(1, 1), dtype=float32)\n"
     ]
    }
   ],
   "source": [
    "discriminator = make_discriminator_model()\n",
    "decision = discriminator(generated_image)\n",
    "print (decision)"
   ]
  },
  {
   "cell_type": "markdown",
   "metadata": {
    "colab_type": "text",
    "id": "0FMYgY_mPfTi"
   },
   "source": [
    "## Define the loss and optimizers\n",
    "\n",
    "Define loss functions and optimizers for both models.\n"
   ]
  },
  {
   "cell_type": "code",
   "execution_count": 345,
   "metadata": {
    "colab": {},
    "colab_type": "code",
    "id": "psQfmXxYKU3X"
   },
   "outputs": [],
   "source": [
    "# This method returns a helper function to compute cross entropy loss\n",
    "cross_entropy = tf.keras.losses.BinaryCrossentropy(from_logits=True)\n",
    "mse = tf.keras.losses.MeanSquaredError()"
   ]
  },
  {
   "cell_type": "markdown",
   "metadata": {
    "colab_type": "text",
    "id": "PKY_iPSPNWoj"
   },
   "source": [
    "### Discriminator loss\n",
    "\n",
    "This method quantifies how well the discriminator is able to distinguish real images from fakes. It compares the discriminator's predictions on real images to an array of 1s, and the discriminator's predictions on fake (generated) images to an array of 0s."
   ]
  },
  {
   "cell_type": "code",
   "execution_count": 300,
   "metadata": {
    "colab": {},
    "colab_type": "code",
    "id": "wkMNfBWlT-PV"
   },
   "outputs": [],
   "source": [
    "#def discriminator_loss(real_output, fake_output):\n",
    "#    real_loss = cross_entropy(tf.ones_like(real_output), real_output)\n",
    "#    fake_loss = cross_entropy(tf.zeros_like(fake_output), fake_output)\n",
    "#    total_loss = real_loss + fake_loss\n",
    "#    return total_loss\n",
    "\n",
    "def discriminator_loss(real_output, fake_output):\n",
    "    real_loss = cross_entropy(tf.ones_like(real_output), real_output)\n",
    "    fake_loss = cross_entropy(tf.zeros_like(fake_output), fake_output)\n",
    "    total_loss = real_loss + fake_loss\n",
    "    return total_loss"
   ]
  },
  {
   "cell_type": "code",
   "execution_count": 352,
   "metadata": {},
   "outputs": [
    {
     "data": {
      "text/plain": [
       "<tf.Tensor: shape=(2, 2), dtype=int32, numpy=\n",
       "array([[100, 100],\n",
       "       [100, 100]])>"
      ]
     },
     "execution_count": 352,
     "metadata": {},
     "output_type": "execute_result"
    }
   ],
   "source": [
    "\n",
    "\n"
   ]
  },
  {
   "cell_type": "markdown",
   "metadata": {
    "colab_type": "text",
    "id": "Jd-3GCUEiKtv"
   },
   "source": [
    "### Generator loss\n",
    "The generator's loss quantifies how well it was able to trick the discriminator. Intuitively, if the generator is performing well, the discriminator will classify the fake images as real (or 1). Here, we will compare the discriminators decisions on the generated images to an array of 1s."
   ]
  },
  {
   "cell_type": "code",
   "execution_count": 301,
   "metadata": {
    "colab": {},
    "colab_type": "code",
    "id": "90BIcCKcDMxz"
   },
   "outputs": [],
   "source": [
    "def generator_loss(fake_output):\n",
    "    return cross_entropy(tf.ones_like(fake_output), fake_output)"
   ]
  },
  {
   "cell_type": "markdown",
   "metadata": {
    "colab_type": "text",
    "id": "MgIc7i0th_Iu"
   },
   "source": [
    "The discriminator and the generator optimizers are different since we will train two networks separately."
   ]
  },
  {
   "cell_type": "code",
   "execution_count": 302,
   "metadata": {
    "colab": {},
    "colab_type": "code",
    "id": "iWCn_PVdEJZ7"
   },
   "outputs": [],
   "source": [
    "generator_optimizer = tf.keras.optimizers.Adam(1e-4)\n",
    "discriminator_optimizer = tf.keras.optimizers.Adam(1e-4)"
   ]
  },
  {
   "cell_type": "markdown",
   "metadata": {
    "colab_type": "text",
    "id": "mWtinsGDPJlV"
   },
   "source": [
    "### Save checkpoints\n",
    "This notebook also demonstrates how to save and restore models, which can be helpful in case a long running training task is interrupted."
   ]
  },
  {
   "cell_type": "code",
   "execution_count": 303,
   "metadata": {
    "colab": {},
    "colab_type": "code",
    "id": "CA1w-7s2POEy"
   },
   "outputs": [],
   "source": [
    "checkpoint_dir = './training_checkpoints'\n",
    "checkpoint_prefix = os.path.join(checkpoint_dir, \"ckpt\")\n",
    "checkpoint = tf.train.Checkpoint(generator_optimizer=generator_optimizer,\n",
    "                                 discriminator_optimizer=discriminator_optimizer,\n",
    "                                 generator=generator,\n",
    "                                 discriminator=discriminator)"
   ]
  },
  {
   "cell_type": "markdown",
   "metadata": {
    "colab_type": "text",
    "id": "Rw1fkAczTQYh"
   },
   "source": [
    "## Define the training loop\n"
   ]
  },
  {
   "cell_type": "code",
   "execution_count": 304,
   "metadata": {
    "colab": {},
    "colab_type": "code",
    "id": "NS2GWywBbAWo"
   },
   "outputs": [],
   "source": [
    "EPOCHS = 500\n",
    "noise_dim = 3\n",
    "num_examples_to_generate = 1000\n",
    "\n",
    "# We will reuse this seed overtime (so it's easier)\n",
    "# to visualize progress in the animated GIF)\n",
    "seed = noise"
   ]
  },
  {
   "cell_type": "markdown",
   "metadata": {
    "colab_type": "text",
    "id": "jylSonrqSWfi"
   },
   "source": [
    "The training loop begins with generator receiving a random seed as input. That seed is used to produce an image. The discriminator is then used to classify real images (drawn from the training set) and fakes images (produced by the generator). The loss is calculated for each of these models, and the gradients are used to update the generator and discriminator."
   ]
  },
  {
   "cell_type": "code",
   "execution_count": 309,
   "metadata": {
    "colab": {},
    "colab_type": "code",
    "id": "3t5ibNo05jCB"
   },
   "outputs": [],
   "source": [
    "# Notice the use of `tf.function`\n",
    "# This annotation causes the function to be \"compiled\".\n",
    "#@tf.function\n",
    "def train_step(images):\n",
    "    \n",
    "    noise = tf.random.uniform([BATCH_SIZE, noise_dim])\n",
    "    #noise = noise\n",
    "    \n",
    "    with tf.GradientTape() as gen_tape, tf.GradientTape() as disc_tape:\n",
    "      \n",
    "      generated_images = generator(noise, training=True)\n",
    "\n",
    "      real_output = discriminator(images, training=True)\n",
    "      fake_output = discriminator(generated_images, training=True)\n",
    "\n",
    "      gen_loss = generator_loss(fake_output)\n",
    "      #print(gen_loss)\n",
    "      g_hist.append(gen_loss)  \n",
    "      disc_loss = discriminator_loss(real_output, fake_output)\n",
    "      d1_hist.append(disc_loss) \n",
    "      #print(disc_loss)\n",
    "    gradients_of_generator = gen_tape.gradient(gen_loss, generator.trainable_variables)\n",
    "    gradients_of_discriminator = disc_tape.gradient(disc_loss, discriminator.trainable_variables)\n",
    "\n",
    "    generator_optimizer.apply_gradients(zip(gradients_of_generator, generator.trainable_variables))\n",
    "    discriminator_optimizer.apply_gradients(zip(gradients_of_discriminator, discriminator.trainable_variables))"
   ]
  },
  {
   "cell_type": "code",
   "execution_count": 259,
   "metadata": {
    "colab": {},
    "colab_type": "code",
    "id": "2M7LmLtGEMQJ"
   },
   "outputs": [],
   "source": [
    "d1_hist, g_hist = list(), list()\n",
    "def train(dataset, epochs):\n",
    "  \n",
    "  for epoch in range(epochs):\n",
    "    start = time.time()\n",
    "    \n",
    "    for image_batch in dataset:  \n",
    "        train_step(image_batch)\n",
    "\n",
    "    # Produce images for the GIF as we go\n",
    "    display.clear_output(wait=True)\n",
    "    generate_and_save_images(generator,\n",
    "                             epoch + 1,\n",
    "                             seed)\n",
    "#\n",
    "    ## Save the model every 15 epochs\n",
    "    if (epoch + 1) % 15 == 0:\n",
    "      checkpoint.save(file_prefix = checkpoint_prefix)\n",
    "      \n",
    "#\n",
    "    print ('Time for epoch {} is {} sec'.format(epoch + 1, time.time()-start))\n",
    "\n",
    "  # Generate after the final epoch\n",
    "  display.clear_output(wait=True)\n",
    "  generate_and_save_images(generator,\n",
    "                           epochs,\n",
    "                           seed)\n",
    "  plot_history(d1_hist, g_hist)"
   ]
  },
  {
   "cell_type": "markdown",
   "metadata": {
    "colab_type": "text",
    "id": "2aFF7Hk3XdeW"
   },
   "source": [
    "**Generate and save images**\n"
   ]
  },
  {
   "cell_type": "code",
   "execution_count": 306,
   "metadata": {
    "colab": {},
    "colab_type": "code",
    "id": "RmdVsmvhPxyy"
   },
   "outputs": [],
   "source": [
    "def generate_and_save_images(model, epoch, test_input):\n",
    "  # Notice `training` is set to False.\n",
    "  # This is so all layers run in inference mode (batchnorm).\n",
    "  predictions = model(test_input, training=False)\n",
    "\n",
    "  #fig = plt.figure(figsize=(4,4))\n",
    "#\n",
    "  #for i in range(predictions.shape[0]):\n",
    "  #    plt.subplot(4, 4, i+1)\n",
    "  #    plt.imshow(predictions[i, :, :, 0] * 127.5 + 127.5, cmap='gray')\n",
    "  #    plt.axis('off')\n",
    "#\n",
    "  #plt.savefig('image_at_epoch_{:04d}.png'.format(epoch))\n",
    "  #plt.show()\n",
    "  print(predictions)"
   ]
  },
  {
   "cell_type": "code",
   "execution_count": 293,
   "metadata": {},
   "outputs": [],
   "source": [
    "from matplotlib import pyplot\n",
    "def plot_history(d1_hist,  g_hist):\n",
    "    # plot loss\n",
    "    pyplot.subplot(2, 1, 1)\n",
    "    pyplot.plot(d1_hist, label='d-real')\n",
    "\n",
    "    pyplot.plot(g_hist, label='gen')\n",
    "    pyplot.legend()\n"
   ]
  },
  {
   "cell_type": "markdown",
   "metadata": {
    "colab_type": "text",
    "id": "dZrd4CdjR-Fp"
   },
   "source": [
    "## Train the model\n",
    "Call the `train()` method defined above to train the generator and discriminator simultaneously. Note, training GANs can be tricky. It's important that the generator and discriminator do not overpower each other (e.g., that they train at a similar rate).\n",
    "\n",
    "At the beginning of the training, the generated images look like random noise. As training progresses, the generated digits will look increasingly real. After about 50 epochs, they resemble MNIST digits. This may take about one minute / epoch with the default settings on Colab."
   ]
  },
  {
   "cell_type": "code",
   "execution_count": 318,
   "metadata": {
    "colab": {},
    "colab_type": "code",
    "id": "Ly3UN0SLLY2l"
   },
   "outputs": [
    {
     "name": "stdout",
     "output_type": "stream",
     "text": [
      "tf.Tensor(\n",
      "[[  3.681732     8.636674    -0.49520385   3.4175632    1.0161135\n",
      "   -2.3573735    7.6035714    4.9422927   -2.578541    -2.3041797\n",
      "   -7.848205    -1.4997641   -1.5598831    7.106232     4.1989126\n",
      "    5.145973     7.3772383   14.483204     3.4349568   -5.7351785\n",
      "  -15.323732    -6.8701744    3.0582516    5.5856323   11.715507\n",
      "   -5.8871183   -9.121427    11.044656    -5.2616935  -14.778894\n",
      "   -7.622232    -0.05613528  -3.8487504    7.3997912    0.35812894\n",
      "   -7.7712865   11.494423  ]], shape=(1, 37), dtype=float32)\n"
     ]
    },
    {
     "data": {
      "image/png": "[encoded data removed]",
      "text/plain": [
       "<Figure size 432x288 with 1 Axes>"
      ]
     },
     "metadata": {
      "needs_background": "light"
     },
     "output_type": "display_data"
    }
   ],
   "source": [
    "train(train_dataset, EPOCHS)\n",
    "#print(generator.layers[0].get_weights())\n",
    "#print(generator.layers[1].get_weights())\n"
   ]
  },
  {
   "cell_type": "code",
   "execution_count": 189,
   "metadata": {},
   "outputs": [
    {
     "name": "stdout",
     "output_type": "stream",
     "text": [
      "tf.Tensor(\n",
      "[[0.00000000e+00 6.59152865e-05 0.00000000e+00 1.49575129e-01\n",
      "  0.00000000e+00 1.23407245e-02 0.00000000e+00 0.00000000e+00\n",
      "  4.86681908e-02 0.00000000e+00 0.00000000e+00 1.55686826e-01\n",
      "  1.28354520e-01 0.00000000e+00 1.06973797e-01 0.00000000e+00\n",
      "  0.00000000e+00 0.00000000e+00 0.00000000e+00 7.06320331e-02\n",
      "  0.00000000e+00 0.00000000e+00 0.00000000e+00 4.89211172e-01\n",
      "  0.00000000e+00 3.84112507e-01 0.00000000e+00 0.00000000e+00\n",
      "  0.00000000e+00 0.00000000e+00 0.00000000e+00 3.37377161e-01\n",
      "  0.00000000e+00 0.00000000e+00 0.00000000e+00 0.00000000e+00\n",
      "  2.32063964e-01]], shape=(1, 37), dtype=float32)\n",
      "tf.Tensor([[0.]], shape=(1, 1), dtype=float32)\n"
     ]
    }
   ],
   "source": [
    "import tensorflow.keras.backend as K\n",
    "generated_image = np.array([[-5.01339200e-02,  1.47485600e-01 , 1.04515520e-01,  5.58723200e-02,\n",
    "   8.32640000e-04,  2.77001600e-02,  9.29284800e-02,  1.46492960e-01,\n",
    "   1.99860160e-01,  6.38261250e-02, -6.19328675e-01,  1.87874371e-01,\n",
    "   1.06370624e-01, -5.38623065e-02,  5.25495552e-02, -1.10682583e-01,\n",
    "   3.88565979e-02, -2.80481558e-01, -3.76377801e-01, -2.06739080e-01,\n",
    "  -1.18185395e-01, -2.34346332e-02, -7.00245914e-02,  3.72841549e-01,\n",
    "  -1.28902088e-01,  2.59003244e-01,  5.42846727e-03, -3.77027200e-01,\n",
    "  -2.53582400e-01, -3.60774400e-01, -2.49497600e-01, -1.09289600e-01,\n",
    "  -2.68664000e-01,  2.17609920e-01, -3.74327680e-01,  1.75520480e-01,\n",
    "   5.39315520e-01]])\n",
    "generated_image = K.constant(generated_image)\n",
    "generated_image = generator(noise, training=False)\n",
    "##\n",
    "print(generated_image)\n",
    "decision = discriminator(generated_image)\n",
    "print (decision)"
   ]
  },
  {
   "cell_type": "markdown",
   "metadata": {
    "colab_type": "text",
    "id": "rfM4YcPVPkNO"
   },
   "source": [
    "Restore the latest checkpoint."
   ]
  },
  {
   "cell_type": "code",
   "execution_count": null,
   "metadata": {
    "colab": {},
    "colab_type": "code",
    "id": "XhXsd0srPo8c"
   },
   "outputs": [],
   "source": [
    "checkpoint.restore(tf.train.latest_checkpoint(checkpoint_dir))"
   ]
  },
  {
   "cell_type": "markdown",
   "metadata": {
    "colab_type": "text",
    "id": "P4M_vIbUi7c0"
   },
   "source": [
    "## Create a GIF\n"
   ]
  },
  {
   "cell_type": "code",
   "execution_count": null,
   "metadata": {
    "colab": {},
    "colab_type": "code",
    "id": "WfO5wCdclHGL"
   },
   "outputs": [],
   "source": [
    "# Display a single image using the epoch number\n",
    "def display_image(epoch_no):\n",
    "  return PIL.Image.open('image_at_epoch_{:04d}.png'.format(epoch_no))"
   ]
  },
  {
   "cell_type": "code",
   "execution_count": null,
   "metadata": {
    "colab": {},
    "colab_type": "code",
    "id": "5x3q9_Oe5q0A"
   },
   "outputs": [],
   "source": [
    "display_image(EPOCHS)"
   ]
  },
  {
   "cell_type": "markdown",
   "metadata": {
    "colab_type": "text",
    "id": "NywiH3nL8guF"
   },
   "source": [
    "Use `imageio` to create an animated gif using the images saved during training."
   ]
  },
  {
   "cell_type": "code",
   "execution_count": null,
   "metadata": {
    "colab": {},
    "colab_type": "code",
    "id": "IGKQgENQ8lEI"
   },
   "outputs": [],
   "source": [
    "anim_file = 'dcgan.gif'\n",
    "\n",
    "with imageio.get_writer(anim_file, mode='I') as writer:\n",
    "  filenames = glob.glob('image*.png')\n",
    "  filenames = sorted(filenames)\n",
    "  last = -1\n",
    "  for i,filename in enumerate(filenames):\n",
    "    frame = 2*(i**0.5)\n",
    "    if round(frame) > round(last):\n",
    "      last = frame\n",
    "    else:\n",
    "      continue\n",
    "    image = imageio.imread(filename)\n",
    "    writer.append_data(image)\n",
    "  image = imageio.imread(filename)\n",
    "  writer.append_data(image)\n",
    "\n",
    "import IPython\n",
    "if IPython.version_info > (6,2,0,''):\n",
    "  display.Image(filename=anim_file)"
   ]
  },
  {
   "cell_type": "markdown",
   "metadata": {
    "colab_type": "text",
    "id": "cGhC3-fMWSwl"
   },
   "source": [
    "If you're working in Colab you can download the animation with the code below:"
   ]
  },
  {
   "cell_type": "code",
   "execution_count": null,
   "metadata": {
    "colab": {},
    "colab_type": "code",
    "id": "uV0yiKpzNP1b"
   },
   "outputs": [],
   "source": [
    "try:\n",
    "  from google.colab import files\n",
    "except ImportError:\n",
    "   pass\n",
    "else:\n",
    "  files.download(anim_file)"
   ]
  },
  {
   "cell_type": "code",
   "execution_count": 2,
   "metadata": {},
   "outputs": [
    {
     "name": "stdout",
     "output_type": "stream",
     "text": [
      "tf.Tensor(\n",
      "[[-0.55043596  1.2208356   1.1156557  ...  1.2744477  -2.0482957\n",
      "   0.8176887 ]\n",
      " [-0.578696    1.419228    0.22612736 ...  0.21381916 -1.3350449\n",
      "  -1.0245992 ]\n",
      " [ 0.80823535  0.6007636   0.12482013 ...  2.139863   -0.8015802\n",
      "   0.6555813 ]\n",
      " ...\n",
      " [ 0.8125864  -0.07094708 -1.5003804  ...  0.2876724  -0.76523834\n",
      "   0.6795515 ]\n",
      " [ 0.36833766  0.18810278 -1.113687   ... -0.323603   -0.3179498\n",
      "   0.713018  ]\n",
      " [-0.31850365 -0.73348427 -1.1689583  ... -0.46039227 -0.17448936\n",
      "   1.3429857 ]], shape=(100, 36), dtype=float32)\n"
     ]
    }
   ],
   "source": [
    "import tensorflow as tf\n",
    "print(tf.random.normal([100,36]))"
   ]
  },
  {
   "cell_type": "markdown",
   "metadata": {
    "colab_type": "text",
    "id": "k6qC-SbjK0yW"
   },
   "source": [
    "## Next steps\n"
   ]
  },
  {
   "cell_type": "markdown",
   "metadata": {
    "colab_type": "text",
    "id": "xjjkT9KAK6H7"
   },
   "source": [
    "This tutorial has shown the complete code necessary to write and train a GAN. As a next step, you might like to experiment with a different dataset, for example the Large-scale Celeb Faces Attributes (CelebA) dataset [available on Kaggle](https://www.kaggle.com/jessicali9530/celeba-dataset). To learn more about GANs we recommend the [NIPS 2016 Tutorial: Generative Adversarial Networks](https://arxiv.org/abs/1701.00160).\n"
   ]
  }
 ],
 "metadata": {
  "accelerator": "GPU",
  "colab": {
   "collapsed_sections": [],
   "name": "dcgan.ipynb",
   "private_outputs": true,
   "provenance": [],
   "toc_visible": true
  },
  "kernelspec": {
   "display_name": "Python 3",
   "language": "python",
   "name": "python3"
  },
  "language_info": {
   "codemirror_mode": {
    "name": "ipython",
    "version": 3
   },
   "file_extension": ".py",
   "mimetype": "text/x-python",
   "name": "python",
   "nbconvert_exporter": "python",
   "pygments_lexer": "ipython3",
   "version": "3.7.6"
  }
 },
 "nbformat": 4,
 "nbformat_minor": 1
}
